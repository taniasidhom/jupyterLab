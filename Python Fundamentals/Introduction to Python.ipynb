{
 "cells": [
  {
   "cell_type": "markdown",
   "metadata": {},
   "source": [
    "<img src=\"../imgs/CampQMIND_banner.png\">"
   ]
  },
  {
   "cell_type": "markdown",
   "metadata": {},
   "source": [
    "# Python Fundamentals <a class=\"anchor\" id=\"top\"></a>\n",
    "\n",
    "This notebook goes through important python basics that are useful to be familiar with before coding in a project. If you've already learned parts of this notebook, you can use the table of contents to skip to parts you feel you might need some practice on. \n",
    "\n",
    "Author: [Jae Matikalo](https://www.linkedin.com/in/jae-makitalo/) "
   ]
  },
  {
   "cell_type": "markdown",
   "metadata": {
    "toc": true
   },
   "source": [
    "<h1>Table of Contents<span class=\"tocSkip\"></span></h1>\n",
    "<div class=\"toc\"><ul class=\"toc-item\"><li><span><a href=\"#Print-&quot;Hello-World&quot;\" data-toc-modified-id=\"Print-&quot;Hello-World&quot;-1\"><span class=\"toc-item-num\">1&nbsp;&nbsp;</span>Print \"Hello World\"</a></span></li><li><span><a href=\"#Variables\" data-toc-modified-id=\"Variables-2\"><span class=\"toc-item-num\">2&nbsp;&nbsp;</span>Variables</a></span></li><li><span><a href=\"#Data-Types-I\" data-toc-modified-id=\"Data-Types-I-3\"><span class=\"toc-item-num\">3&nbsp;&nbsp;</span>Data Types I</a></span><ul class=\"toc-item\"><li><span><a href=\"#String\" data-toc-modified-id=\"String-3.1\"><span class=\"toc-item-num\">3.1&nbsp;&nbsp;</span>String</a></span></li><li><span><a href=\"#Int\" data-toc-modified-id=\"Int-3.2\"><span class=\"toc-item-num\">3.2&nbsp;&nbsp;</span>Int</a></span></li><li><span><a href=\"#Float\" data-toc-modified-id=\"Float-3.3\"><span class=\"toc-item-num\">3.3&nbsp;&nbsp;</span>Float</a></span></li><li><span><a href=\"#Boolean\" data-toc-modified-id=\"Boolean-3.4\"><span class=\"toc-item-num\">3.4&nbsp;&nbsp;</span>Boolean</a></span></li></ul></li><li><span><a href=\"#Data-Types-II\" data-toc-modified-id=\"Data-Types-II-4\"><span class=\"toc-item-num\">4&nbsp;&nbsp;</span>Data Types II</a></span><ul class=\"toc-item\"><li><span><a href=\"#List\" data-toc-modified-id=\"List-4.1\"><span class=\"toc-item-num\">4.1&nbsp;&nbsp;</span>List</a></span><ul class=\"toc-item\"><li><span><a href=\"#Methods\" data-toc-modified-id=\"Methods-4.1.1\"><span class=\"toc-item-num\">4.1.1&nbsp;&nbsp;</span>Methods</a></span></li><li><span><a href=\"#Function\" data-toc-modified-id=\"Function-4.1.2\"><span class=\"toc-item-num\">4.1.2&nbsp;&nbsp;</span>Function</a></span></li></ul></li><li><span><a href=\"#Dictionaries\" data-toc-modified-id=\"Dictionaries-4.2\"><span class=\"toc-item-num\">4.2&nbsp;&nbsp;</span>Dictionaries</a></span><ul class=\"toc-item\"><li><span><a href=\"#There-are-two-ways-of-creating-a-python-dictionary\" data-toc-modified-id=\"There-are-two-ways-of-creating-a-python-dictionary-4.2.1\"><span class=\"toc-item-num\">4.2.1&nbsp;&nbsp;</span>There are two ways of creating a python dictionary</a></span><ul class=\"toc-item\"><li><span><a href=\"#Using-curly-braces-seperated-by-a-colon-(:)\" data-toc-modified-id=\"Using-curly-braces-seperated-by-a-colon-(:)-4.2.1.1\"><span class=\"toc-item-num\">4.2.1.1&nbsp;&nbsp;</span>Using curly braces seperated by a colon (:)</a></span></li><li><span><a href=\"#Using-dict-function\" data-toc-modified-id=\"Using-dict-function-4.2.1.2\"><span class=\"toc-item-num\">4.2.1.2&nbsp;&nbsp;</span>Using dict function</a></span></li></ul></li><li><span><a href=\"#Methods\" data-toc-modified-id=\"Methods-4.2.2\"><span class=\"toc-item-num\">4.2.2&nbsp;&nbsp;</span>Methods</a></span></li><li><span><a href=\"#Functions\" data-toc-modified-id=\"Functions-4.2.3\"><span class=\"toc-item-num\">4.2.3&nbsp;&nbsp;</span>Functions</a></span></li></ul></li><li><span><a href=\"#Sets\" data-toc-modified-id=\"Sets-4.3\"><span class=\"toc-item-num\">4.3&nbsp;&nbsp;</span>Sets</a></span><ul class=\"toc-item\"><li><span><a href=\"#Methods\" data-toc-modified-id=\"Methods-4.3.1\"><span class=\"toc-item-num\">4.3.1&nbsp;&nbsp;</span>Methods</a></span></li></ul></li></ul></li><li><span><a href=\"#Loops\" data-toc-modified-id=\"Loops-5\"><span class=\"toc-item-num\">5&nbsp;&nbsp;</span>Loops</a></span><ul class=\"toc-item\"><li><span><a href=\"#For-Loops\" data-toc-modified-id=\"For-Loops-5.1\"><span class=\"toc-item-num\">5.1&nbsp;&nbsp;</span>For Loops</a></span></li><li><span><a href=\"#While-Loops\" data-toc-modified-id=\"While-Loops-5.2\"><span class=\"toc-item-num\">5.2&nbsp;&nbsp;</span>While Loops</a></span></li></ul></li><li><span><a href=\"#If,-Else,-Elif-Statements\" data-toc-modified-id=\"If,-Else,-Elif-Statements-6\"><span class=\"toc-item-num\">6&nbsp;&nbsp;</span>If, Else, Elif Statements</a></span></li><li><span><a href=\"#Functions\" data-toc-modified-id=\"Functions-7\"><span class=\"toc-item-num\">7&nbsp;&nbsp;</span>Functions</a></span><ul class=\"toc-item\"><li><span><a href=\"#Default-and-Positional-arguments\" data-toc-modified-id=\"Default-and-Positional-arguments-7.1\"><span class=\"toc-item-num\">7.1&nbsp;&nbsp;</span>Default and Positional arguments</a></span></li><li><span><a href=\"#Arbitary-arguments\" data-toc-modified-id=\"Arbitary-arguments-7.2\"><span class=\"toc-item-num\">7.2&nbsp;&nbsp;</span>Arbitary arguments</a></span></li><li><span><a href=\"#Arbitrary-keyword-arguments\" data-toc-modified-id=\"Arbitrary-keyword-arguments-7.3\"><span class=\"toc-item-num\">7.3&nbsp;&nbsp;</span>Arbitrary keyword arguments</a></span></li></ul></li></ul></div>"
   ]
  },
  {
   "cell_type": "markdown",
   "metadata": {},
   "source": [
    "## Print \"Hello World\""
   ]
  },
  {
   "cell_type": "markdown",
   "metadata": {},
   "source": [
    "Printing *“Hello World”* is usually the first step when approaching a new language. In Python, there are two ways we can approach this. For now, will start with the Python Shell. \n",
    "The print function is a built-in function in Python. We can print *“Hello World”* like this:"
   ]
  },
  {
   "cell_type": "code",
   "execution_count": 1,
   "metadata": {},
   "outputs": [
    {
     "name": "stdout",
     "output_type": "stream",
     "text": [
      "Hello World\n"
     ]
    }
   ],
   "source": [
    "print(\"Hello World\")"
   ]
  },
  {
   "cell_type": "markdown",
   "metadata": {},
   "source": [
    "As we can see from the example above, what is printed from this line of code is only the string of text included in the quotation marks within the brackets.\n",
    "\n",
    "We could also print *“Hello World”* by writing a basic function, which will be covered more in depth in when discussion functions later on in this notebook."
   ]
  },
  {
   "cell_type": "markdown",
   "metadata": {},
   "source": [
    "## Variables "
   ]
  },
  {
   "cell_type": "markdown",
   "metadata": {},
   "source": [
    "Variables are essentially symbols that represent values in your program. We are going to start with a variable called *greeting*. If we don't initialize the variable (assign it to a value), but try to print the variable using a print statement, We will get a *NameError* because we have not yet defined the variable. "
   ]
  },
  {
   "cell_type": "code",
   "execution_count": 1,
   "metadata": {},
   "outputs": [
    {
     "ename": "NameError",
     "evalue": "name 'greeting' is not defined",
     "output_type": "error",
     "traceback": [
      "\u001b[1;31m---------------------------------------------------------------------------\u001b[0m",
      "\u001b[1;31mNameError\u001b[0m                                 Traceback (most recent call last)",
      "\u001b[1;32m<ipython-input-1-4b283e946106>\u001b[0m in \u001b[0;36m<module>\u001b[1;34m\u001b[0m\n\u001b[1;32m----> 1\u001b[1;33m \u001b[0mprint\u001b[0m\u001b[1;33m(\u001b[0m\u001b[0mgreeting\u001b[0m\u001b[1;33m)\u001b[0m\u001b[1;33m\u001b[0m\u001b[1;33m\u001b[0m\u001b[0m\n\u001b[0m",
      "\u001b[1;31mNameError\u001b[0m: name 'greeting' is not defined"
     ]
    }
   ],
   "source": [
    "print(greeting)"
   ]
  },
  {
   "cell_type": "markdown",
   "metadata": {},
   "source": [
    "There are three parts to creating a variable: the variable name, the assignment operator and the value being assigned to the variable. Let's Look at the example below:"
   ]
  },
  {
   "cell_type": "code",
   "execution_count": 1,
   "metadata": {},
   "outputs": [],
   "source": [
    "greeting = \"Hello World\""
   ]
  },
  {
   "cell_type": "markdown",
   "metadata": {},
   "source": [
    "In this example, we have initialized the variable *greeting* and set it to the value being assigned,which is the string \"*Hello World*\". We do this using the assignment operator, which is the equal sign (=). \n",
    "\n",
    "Variables can be assigned to multiple data types, which will be discussed later.\n",
    "\n",
    "Now that we have initalized the variable, we can print it using a print statement:"
   ]
  },
  {
   "cell_type": "code",
   "execution_count": 2,
   "metadata": {},
   "outputs": [
    {
     "name": "stdout",
     "output_type": "stream",
     "text": [
      "Hello World\n"
     ]
    }
   ],
   "source": [
    "print(greeting)"
   ]
  },
  {
   "cell_type": "markdown",
   "metadata": {},
   "source": [
    "We can see that when we try and print the variable *greeting* now, we do not get a *NameError*. This is because the variable *greeting* is now defined as the string \"*Hello World\"*."
   ]
  },
  {
   "cell_type": "markdown",
   "metadata": {},
   "source": [
    "If we wanted to change the value of the variable, we can do so by re-assigning it to something else. If we re-assign it to the string \"*Good Morning\"* and print the variable *greeting* again, the output will no longer be the string \"*Hello World\"*."
   ]
  },
  {
   "cell_type": "code",
   "execution_count": 3,
   "metadata": {},
   "outputs": [
    {
     "name": "stdout",
     "output_type": "stream",
     "text": [
      "Good Morning\n"
     ]
    }
   ],
   "source": [
    "greeting = \"Good Morning\"\n",
    "print(greeting)"
   ]
  },
  {
   "cell_type": "markdown",
   "metadata": {},
   "source": [
    "It is important to note that when we print a variable, we do not put the variable in quotation marks. If we were to try and print the variable *greeting* and put it in quotation marks like this: \"*greeting\"*\n",
    "\n",
    "It will be interpreted as a string, not a variable. This means that the output of the print statement will be *greeting*, not value that we assigned to the variable *greeting* (which is currently the string \"*Good Morning\"*)."
   ]
  },
  {
   "cell_type": "code",
   "execution_count": 4,
   "metadata": {},
   "outputs": [
    {
     "name": "stdout",
     "output_type": "stream",
     "text": [
      "greeting\n"
     ]
    }
   ],
   "source": [
    "print(\"greeting\")"
   ]
  },
  {
   "cell_type": "markdown",
   "metadata": {},
   "source": [
    "## Data Types I"
   ]
  },
  {
   "cell_type": "markdown",
   "metadata": {},
   "source": [
    "In this section, there are 4 data types that we will cover: strings, ints, flaots and booleans (true & false)"
   ]
  },
  {
   "cell_type": "markdown",
   "metadata": {},
   "source": [
    "### String"
   ]
  },
  {
   "cell_type": "markdown",
   "metadata": {},
   "source": [
    "Strings can be pretty much anything within a pair of quotation marks, but are most commonly used for names, words or phrases. \n",
    "Some examples of strings would be the following:\n",
    "*Hello World*, \n",
    "*Queen's University*, \n",
    "*There are 4 different types of data structures we are covering in this section*"
   ]
  },
  {
   "cell_type": "code",
   "execution_count": 2,
   "metadata": {},
   "outputs": [
    {
     "name": "stdout",
     "output_type": "stream",
     "text": [
      "Hello World\n"
     ]
    }
   ],
   "source": [
    "greeting = \"Hello World\"\n",
    "print(greeting)"
   ]
  },
  {
   "cell_type": "code",
   "execution_count": 3,
   "metadata": {},
   "outputs": [
    {
     "name": "stdout",
     "output_type": "stream",
     "text": [
      "Queen's Univeristy\n"
     ]
    }
   ],
   "source": [
    "title = (\"Queen's Univeristy\")\n",
    "print(title)"
   ]
  },
  {
   "cell_type": "code",
   "execution_count": 4,
   "metadata": {},
   "outputs": [
    {
     "name": "stdout",
     "output_type": "stream",
     "text": [
      "There are 4 different data types we are covering in this section\n"
     ]
    }
   ],
   "source": [
    "data_types = (\"There are 4 different data types we are covering in this section\")\n",
    "print(data_types)"
   ]
  },
  {
   "cell_type": "markdown",
   "metadata": {},
   "source": [
    "### Int"
   ]
  },
  {
   "cell_type": "markdown",
   "metadata": {},
   "source": [
    "Integers, represented as int in python, are used to represent numbers that do not contain a decimal. When initialize an int, we do not need to use brackets or quotation marks like when we initialize a string."
   ]
  },
  {
   "cell_type": "code",
   "execution_count": 5,
   "metadata": {},
   "outputs": [
    {
     "name": "stdout",
     "output_type": "stream",
     "text": [
      "22\n"
     ]
    }
   ],
   "source": [
    "age = 22\n",
    "print(age)"
   ]
  },
  {
   "cell_type": "markdown",
   "metadata": {},
   "source": [
    "### Float"
   ]
  },
  {
   "cell_type": "markdown",
   "metadata": {},
   "source": [
    "The next data type we are going to cover is a float types. A float is similar to an int except a float contains a decimal.\n",
    "We can look at the example below:"
   ]
  },
  {
   "cell_type": "code",
   "execution_count": 6,
   "metadata": {},
   "outputs": [
    {
     "name": "stdout",
     "output_type": "stream",
     "text": [
      "2.2\n"
     ]
    }
   ],
   "source": [
    "weight = 2.2\n",
    "print(weight)"
   ]
  },
  {
   "cell_type": "markdown",
   "metadata": {},
   "source": [
    "If we wanted to change the type of the variable *weight* to an *int*, we can do so using the fumction *int()*. As we can see, the output changed from 2.2 to 2. "
   ]
  },
  {
   "cell_type": "code",
   "execution_count": 7,
   "metadata": {},
   "outputs": [
    {
     "name": "stdout",
     "output_type": "stream",
     "text": [
      "2\n"
     ]
    }
   ],
   "source": [
    "print(int(weight))"
   ]
  },
  {
   "cell_type": "markdown",
   "metadata": {},
   "source": [
    "We can also go from type *int* to type *float* using the function *float()*. When we do this, we see that the output changed from 20 to 20.0."
   ]
  },
  {
   "cell_type": "code",
   "execution_count": 9,
   "metadata": {},
   "outputs": [
    {
     "name": "stdout",
     "output_type": "stream",
     "text": [
      "20\n",
      "20.0\n"
     ]
    }
   ],
   "source": [
    "age = 20\n",
    "print (age) #prints 20\n",
    "print(float(age)) #prints 20.0"
   ]
  },
  {
   "cell_type": "markdown",
   "metadata": {},
   "source": [
    "### Boolean"
   ]
  },
  {
   "cell_type": "markdown",
   "metadata": {},
   "source": [
    "We also have Boolean type. A Boolean type can either be True or False. These data types can be used in comaprisons, among other things."
   ]
  },
  {
   "cell_type": "markdown",
   "metadata": {},
   "source": [
    "In Python, None, False, 0 and an empty sequence, such as [], {}, (), \"\" are all considered false. Everything else is considered true. We can test this using the *bool()* function."
   ]
  },
  {
   "cell_type": "code",
   "execution_count": 29,
   "metadata": {},
   "outputs": [
    {
     "data": {
      "text/plain": [
       "False"
      ]
     },
     "execution_count": 29,
     "metadata": {},
     "output_type": "execute_result"
    }
   ],
   "source": [
    "A = []\n",
    "B = {}\n",
    "C = ()\n",
    "bool(A)"
   ]
  },
  {
   "cell_type": "code",
   "execution_count": 30,
   "metadata": {},
   "outputs": [
    {
     "data": {
      "text/plain": [
       "False"
      ]
     },
     "execution_count": 30,
     "metadata": {},
     "output_type": "execute_result"
    }
   ],
   "source": [
    "bool(B)"
   ]
  },
  {
   "cell_type": "code",
   "execution_count": 31,
   "metadata": {},
   "outputs": [
    {
     "data": {
      "text/plain": [
       "False"
      ]
     },
     "execution_count": 31,
     "metadata": {},
     "output_type": "execute_result"
    }
   ],
   "source": [
    "bool(C)"
   ]
  },
  {
   "cell_type": "code",
   "execution_count": 32,
   "metadata": {},
   "outputs": [
    {
     "data": {
      "text/plain": [
       "False"
      ]
     },
     "execution_count": 32,
     "metadata": {},
     "output_type": "execute_result"
    }
   ],
   "source": [
    "bool(0)"
   ]
  },
  {
   "cell_type": "code",
   "execution_count": 33,
   "metadata": {},
   "outputs": [
    {
     "data": {
      "text/plain": [
       "False"
      ]
     },
     "execution_count": 33,
     "metadata": {},
     "output_type": "execute_result"
    }
   ],
   "source": [
    "bool(None)"
   ]
  },
  {
   "cell_type": "code",
   "execution_count": 34,
   "metadata": {},
   "outputs": [
    {
     "data": {
      "text/plain": [
       "False"
      ]
     },
     "execution_count": 34,
     "metadata": {},
     "output_type": "execute_result"
    }
   ],
   "source": [
    "bool(False)"
   ]
  },
  {
   "cell_type": "code",
   "execution_count": 35,
   "metadata": {},
   "outputs": [
    {
     "data": {
      "text/plain": [
       "False"
      ]
     },
     "execution_count": 35,
     "metadata": {},
     "output_type": "execute_result"
    }
   ],
   "source": [
    "bool(\"\")"
   ]
  },
  {
   "cell_type": "code",
   "execution_count": 36,
   "metadata": {},
   "outputs": [
    {
     "data": {
      "text/plain": [
       "True"
      ]
     },
     "execution_count": 36,
     "metadata": {},
     "output_type": "execute_result"
    }
   ],
   "source": [
    "bool(\"hello\")"
   ]
  },
  {
   "cell_type": "code",
   "execution_count": 37,
   "metadata": {},
   "outputs": [
    {
     "data": {
      "text/plain": [
       "True"
      ]
     },
     "execution_count": 37,
     "metadata": {},
     "output_type": "execute_result"
    }
   ],
   "source": [
    "bool(1)"
   ]
  },
  {
   "cell_type": "code",
   "execution_count": 38,
   "metadata": {},
   "outputs": [
    {
     "data": {
      "text/plain": [
       "True"
      ]
     },
     "execution_count": 38,
     "metadata": {},
     "output_type": "execute_result"
    }
   ],
   "source": [
    "D = [1,2]\n",
    "bool(D)"
   ]
  },
  {
   "cell_type": "code",
   "execution_count": 39,
   "metadata": {},
   "outputs": [
    {
     "data": {
      "text/plain": [
       "True"
      ]
     },
     "execution_count": 39,
     "metadata": {},
     "output_type": "execute_result"
    }
   ],
   "source": [
    "E = (\"QMIND\")\n",
    "bool(E)"
   ]
  },
  {
   "cell_type": "code",
   "execution_count": 40,
   "metadata": {},
   "outputs": [
    {
     "data": {
      "text/plain": [
       "False"
      ]
     },
     "execution_count": 40,
     "metadata": {},
     "output_type": "execute_result"
    }
   ],
   "source": [
    "F = (\"\")\n",
    "bool(F)"
   ]
  },
  {
   "cell_type": "code",
   "execution_count": 41,
   "metadata": {},
   "outputs": [
    {
     "data": {
      "text/plain": [
       "True"
      ]
     },
     "execution_count": 41,
     "metadata": {},
     "output_type": "execute_result"
    }
   ],
   "source": [
    "G = {\"A\", 1}\n",
    "bool(G)"
   ]
  },
  {
   "cell_type": "markdown",
   "metadata": {},
   "source": [
    "## Data Types II"
   ]
  },
  {
   "cell_type": "markdown",
   "metadata": {},
   "source": [
    "Other data types can be used to store information. These are lists, dictionaries and sets."
   ]
  },
  {
   "cell_type": "markdown",
   "metadata": {},
   "source": [
    "### List"
   ]
  },
  {
   "cell_type": "markdown",
   "metadata": {},
   "source": [
    "Lists can be used in python to store data. They can be modified (added to, or you can remove elements) and searched. They can also contain a varitey of data types, such and strings, integers or even a list of lists. In python, a list does not need to contain only one data type.\n",
    "\n",
    "We can make a list in python like this:"
   ]
  },
  {
   "cell_type": "code",
   "execution_count": 10,
   "metadata": {},
   "outputs": [
    {
     "name": "stdout",
     "output_type": "stream",
     "text": [
      "[]\n"
     ]
    }
   ],
   "source": [
    "a_list = [] #creates a new, empty list\n",
    "print(a_list)"
   ]
  },
  {
   "cell_type": "code",
   "execution_count": 11,
   "metadata": {},
   "outputs": [
    {
     "name": "stdout",
     "output_type": "stream",
     "text": [
      "['cat', 'dog', 'bird']\n"
     ]
    }
   ],
   "source": [
    "b_list = [\"cat\", \"dog\", \"bird\"] #creates a list of strings\n",
    "#notice that the elements of the list are within the square brackets and seperated by a comma\n",
    "print(b_list)"
   ]
  },
  {
   "cell_type": "markdown",
   "metadata": {},
   "source": [
    "When you use the print function to print the contents of a list (as seen in the examples above), it prints the *WHOLE* contents of the list, including the square brackets, commas and quotation marks. We can print just the elements of the list using loops - *this will be discussed more in depth when we learn about loops.*"
   ]
  },
  {
   "cell_type": "markdown",
   "metadata": {},
   "source": [
    "#### Indexing"
   ]
  },
  {
   "cell_type": "markdown",
   "metadata": {},
   "source": [
    "Indexing is how we find out where an element is within a list. When we are counting elements in a list, we *ALWAYS* start at zero!!"
   ]
  },
  {
   "cell_type": "code",
   "execution_count": 12,
   "metadata": {},
   "outputs": [
    {
     "name": "stdout",
     "output_type": "stream",
     "text": [
      "['A', 'B', 'C', 'D']\n"
     ]
    }
   ],
   "source": [
    "i_list = [\"A\", \"B\", \"C\", \"D\"]\n",
    "print(i_list)"
   ]
  },
  {
   "cell_type": "markdown",
   "metadata": {},
   "source": [
    "*i_list*, which was created above, contains four elements which are strings. The first element, \"*A*\", is in position *0* . The second element, \"*B*\", is in position *1* , and so on. We can check this using the following:"
   ]
  },
  {
   "cell_type": "code",
   "execution_count": 13,
   "metadata": {},
   "outputs": [
    {
     "name": "stdout",
     "output_type": "stream",
     "text": [
      "A\n"
     ]
    }
   ],
   "source": [
    "print(i_list[0]) #prints the element of i_list in position 0"
   ]
  },
  {
   "cell_type": "code",
   "execution_count": 14,
   "metadata": {},
   "outputs": [
    {
     "name": "stdout",
     "output_type": "stream",
     "text": [
      "B\n"
     ]
    }
   ],
   "source": [
    "print(i_list[1]) #prints the element of i_list in position 1"
   ]
  },
  {
   "cell_type": "code",
   "execution_count": 15,
   "metadata": {},
   "outputs": [
    {
     "name": "stdout",
     "output_type": "stream",
     "text": [
      "C\n"
     ]
    }
   ],
   "source": [
    "print(i_list[2]) #prints the element of i_list in position 2"
   ]
  },
  {
   "cell_type": "code",
   "execution_count": 16,
   "metadata": {},
   "outputs": [
    {
     "name": "stdout",
     "output_type": "stream",
     "text": [
      "D\n"
     ]
    }
   ],
   "source": [
    "print(i_list[3]) #prints the element of i_list in posotion 3"
   ]
  },
  {
   "cell_type": "markdown",
   "metadata": {},
   "source": [
    "As we can see, when we print elements of a list like this, it does not print strings with the quotation marks. It prints only what is in the quotation marks.\n",
    "\n",
    "\n",
    "If we tried to print an element at an index (position) that did not exist in the list, we would get an error like this:"
   ]
  },
  {
   "cell_type": "code",
   "execution_count": 17,
   "metadata": {},
   "outputs": [
    {
     "ename": "IndexError",
     "evalue": "list index out of range",
     "output_type": "error",
     "traceback": [
      "\u001b[1;31m---------------------------------------------------------------------------\u001b[0m",
      "\u001b[1;31mIndexError\u001b[0m                                Traceback (most recent call last)",
      "\u001b[1;32m<ipython-input-17-abc504160068>\u001b[0m in \u001b[0;36m<module>\u001b[1;34m\u001b[0m\n\u001b[1;32m----> 1\u001b[1;33m \u001b[0mprint\u001b[0m\u001b[1;33m(\u001b[0m\u001b[0mi_list\u001b[0m\u001b[1;33m[\u001b[0m\u001b[1;36m4\u001b[0m\u001b[1;33m]\u001b[0m\u001b[1;33m)\u001b[0m \u001b[1;31m#try to print a FIFTH element that does not exist in our list\u001b[0m\u001b[1;33m\u001b[0m\u001b[1;33m\u001b[0m\u001b[0m\n\u001b[0m",
      "\u001b[1;31mIndexError\u001b[0m: list index out of range"
     ]
    }
   ],
   "source": [
    "print(i_list[4]) #try to print a FIFTH element that does not exist in our list"
   ]
  },
  {
   "cell_type": "markdown",
   "metadata": {},
   "source": [
    "We get an IndexError when we try this becuase there is no element in index position 4. Our list is not that long."
   ]
  },
  {
   "cell_type": "markdown",
   "metadata": {},
   "source": [
    "#### Methods"
   ]
  },
  {
   "cell_type": "markdown",
   "metadata": {},
   "source": [
    "There are multiple methods we can use to modify lists."
   ]
  },
  {
   "cell_type": "markdown",
   "metadata": {},
   "source": [
    "##### append()"
   ]
  },
  {
   "cell_type": "markdown",
   "metadata": {},
   "source": [
    "Using the method *append()*, we can easily add to the *END* of a list.\n",
    "In our example above, if we wanted to add to our empty list *(a_list)* or to our list of strings *(b_list)*, we would do so using this method."
   ]
  },
  {
   "cell_type": "code",
   "execution_count": 18,
   "metadata": {},
   "outputs": [
    {
     "name": "stdout",
     "output_type": "stream",
     "text": [
      "[]\n",
      "[1]\n"
     ]
    }
   ],
   "source": [
    "print(a_list)\n",
    "a_list.append(1) #this adds the data within the round brackets to the end of the list\n",
    "print(a_list)"
   ]
  },
  {
   "cell_type": "markdown",
   "metadata": {},
   "source": [
    "As we can see, *a_list* now contains the int 1. If we wanted to add a string to the list, we could do so like this:"
   ]
  },
  {
   "cell_type": "code",
   "execution_count": 19,
   "metadata": {},
   "outputs": [
    {
     "name": "stdout",
     "output_type": "stream",
     "text": [
      "[1, 'Canada']\n"
     ]
    }
   ],
   "source": [
    "a_list.append(\"Canada\") #Notice that when we add a string, it is still within qotation marks within the brackets\n",
    "print(a_list)"
   ]
  },
  {
   "cell_type": "code",
   "execution_count": 20,
   "metadata": {},
   "outputs": [
    {
     "name": "stdout",
     "output_type": "stream",
     "text": [
      "[1, 'Canada', '2']\n"
     ]
    }
   ],
   "source": [
    "a_list.append(\"2\") #In this example, because the number 2 is in brackets, it is being interpreted as a string\n",
    "print(a_list)"
   ]
  },
  {
   "cell_type": "markdown",
   "metadata": {},
   "source": [
    "In the example above, we can see that the int types are *NOT* in quotation marks but the string types are. We can also add to our other list *b_list* using the same method."
   ]
  },
  {
   "cell_type": "code",
   "execution_count": 21,
   "metadata": {},
   "outputs": [
    {
     "name": "stdout",
     "output_type": "stream",
     "text": [
      "['cat', 'dog', 'bird', 'bird']\n"
     ]
    }
   ],
   "source": [
    "b_list.append(\"bird\")\n",
    "print(b_list)"
   ]
  },
  {
   "cell_type": "markdown",
   "metadata": {},
   "source": [
    "##### extend()"
   ]
  },
  {
   "cell_type": "markdown",
   "metadata": {},
   "source": [
    "*extend()* is another way we can add to a list to make it longer"
   ]
  },
  {
   "cell_type": "code",
   "execution_count": 22,
   "metadata": {},
   "outputs": [
    {
     "name": "stdout",
     "output_type": "stream",
     "text": [
      "['plant', 'desk', 'chair']\n",
      "[22, 7, 8]\n"
     ]
    }
   ],
   "source": [
    "c_list = [\"plant\", \"desk\", \"chair\"] #creates a new list\n",
    "d_list = [22, 7, 8] # creates another new list\n",
    "print(c_list)\n",
    "print(d_list)"
   ]
  },
  {
   "cell_type": "markdown",
   "metadata": {},
   "source": [
    "If we wanted to add the elements of *d_list* to the end of *c_list*, we might try this:"
   ]
  },
  {
   "cell_type": "code",
   "execution_count": 23,
   "metadata": {},
   "outputs": [
    {
     "name": "stdout",
     "output_type": "stream",
     "text": [
      "['plant', 'desk', 'chair', [22, 7, 8]]\n"
     ]
    }
   ],
   "source": [
    "c_list.append(d_list)\n",
    "print(c_list)"
   ]
  },
  {
   "cell_type": "markdown",
   "metadata": {},
   "source": [
    "When we try to do this using the append method, it appends the whole of *d_list* as a single element in *c_list*."
   ]
  },
  {
   "cell_type": "code",
   "execution_count": 24,
   "metadata": {},
   "outputs": [
    {
     "name": "stdout",
     "output_type": "stream",
     "text": [
      "[22, 7, 8]\n"
     ]
    }
   ],
   "source": [
    "print(c_list[3]) #print the fourth element of the list"
   ]
  },
  {
   "cell_type": "markdown",
   "metadata": {},
   "source": [
    "When we print the fourth element of the list (at index 3), it prints all of *d_list*, not just the number 22 which might have been what we were trying to print.\n",
    "\n",
    "By using the method *extend()*, we can add the elements of a list to the end of another list each as their *own* element."
   ]
  },
  {
   "cell_type": "code",
   "execution_count": 30,
   "metadata": {},
   "outputs": [
    {
     "name": "stdout",
     "output_type": "stream",
     "text": [
      "['plant', 'desk', 'chair', 22, 7, 8]\n"
     ]
    }
   ],
   "source": [
    "c_list.extend(d_list)\n",
    "print(c_list)"
   ]
  },
  {
   "cell_type": "code",
   "execution_count": 31,
   "metadata": {},
   "outputs": [
    {
     "name": "stdout",
     "output_type": "stream",
     "text": [
      "22\n"
     ]
    }
   ],
   "source": [
    "print(c_list[3]) #print the fourth element of the list"
   ]
  },
  {
   "cell_type": "markdown",
   "metadata": {},
   "source": [
    "This time, when we try and print the fourth element of our list, it prints only the number 22, not the whole list we just added.\n",
    "\n",
    "If we tried to extend our list by adding another int, we would get an error like this:"
   ]
  },
  {
   "cell_type": "code",
   "execution_count": 32,
   "metadata": {},
   "outputs": [
    {
     "ename": "TypeError",
     "evalue": "'int' object is not iterable",
     "output_type": "error",
     "traceback": [
      "\u001b[1;31m---------------------------------------------------------------------------\u001b[0m",
      "\u001b[1;31mTypeError\u001b[0m                                 Traceback (most recent call last)",
      "\u001b[1;32m<ipython-input-32-d63d80dbafd2>\u001b[0m in \u001b[0;36m<module>\u001b[1;34m\u001b[0m\n\u001b[1;32m----> 1\u001b[1;33m \u001b[0mc_list\u001b[0m\u001b[1;33m.\u001b[0m\u001b[0mextend\u001b[0m\u001b[1;33m(\u001b[0m\u001b[1;36m21\u001b[0m\u001b[1;33m)\u001b[0m\u001b[1;33m\u001b[0m\u001b[1;33m\u001b[0m\u001b[0m\n\u001b[0m\u001b[0;32m      2\u001b[0m \u001b[0mprint\u001b[0m\u001b[1;33m(\u001b[0m\u001b[0mc_list\u001b[0m\u001b[1;33m)\u001b[0m\u001b[1;33m\u001b[0m\u001b[1;33m\u001b[0m\u001b[0m\n",
      "\u001b[1;31mTypeError\u001b[0m: 'int' object is not iterable"
     ]
    }
   ],
   "source": [
    "c_list.extend(21)\n",
    "print(c_list)"
   ]
  },
  {
   "cell_type": "markdown",
   "metadata": {},
   "source": [
    "If we tried to extend our list and add another string, we would get a result that looks like this:"
   ]
  },
  {
   "cell_type": "code",
   "execution_count": 33,
   "metadata": {},
   "outputs": [
    {
     "name": "stdout",
     "output_type": "stream",
     "text": [
      "['plant', 'desk', 'chair', 22, 7, 8, 'b', 'o', 'o', 'k']\n"
     ]
    }
   ],
   "source": [
    "c_list.extend(\"book\")\n",
    "print(c_list)"
   ]
  },
  {
   "cell_type": "markdown",
   "metadata": {},
   "source": [
    "Instead of adding the string \"*book*\" to our list, it has assed the individual letters of the string (the strings \"*b*\", \"*o*\", \"*o*\" and \"*k*\") to the end of the list."
   ]
  },
  {
   "cell_type": "markdown",
   "metadata": {},
   "source": [
    "Conclusion: \n",
    "\n",
    "    Using the method append() is great if you want to add a string, an integer or a list (as a single element) to another list.\n",
    "\n",
    "    Using the method extend() is great if you want to add each element of a list or each letter of a string to the end of another list."
   ]
  },
  {
   "cell_type": "markdown",
   "metadata": {},
   "source": [
    "##### remove()"
   ]
  },
  {
   "cell_type": "markdown",
   "metadata": {},
   "source": [
    "We can use the method *remove()* to remove an element from the list. "
   ]
  },
  {
   "cell_type": "code",
   "execution_count": 34,
   "metadata": {},
   "outputs": [
    {
     "name": "stdout",
     "output_type": "stream",
     "text": [
      "['Canada', '2']\n"
     ]
    }
   ],
   "source": [
    "a_list.remove(1) #the element within the brackets is removed from the list\n",
    "#this removed the int 1 from our list\n",
    "print(a_list)"
   ]
  },
  {
   "cell_type": "code",
   "execution_count": 35,
   "metadata": {},
   "outputs": [
    {
     "name": "stdout",
     "output_type": "stream",
     "text": [
      "['Canada']\n"
     ]
    }
   ],
   "source": [
    "a_list.remove(\"2\") #removes the string \"2\"\n",
    "print(a_list)"
   ]
  },
  {
   "cell_type": "markdown",
   "metadata": {},
   "source": [
    "If you try and remove an element from the list that is not in the list, you will get a valueError as seen below:"
   ]
  },
  {
   "cell_type": "code",
   "execution_count": 37,
   "metadata": {},
   "outputs": [
    {
     "ename": "ValueError",
     "evalue": "list.remove(x): x not in list",
     "output_type": "error",
     "traceback": [
      "\u001b[1;31m---------------------------------------------------------------------------\u001b[0m",
      "\u001b[1;31mValueError\u001b[0m                                Traceback (most recent call last)",
      "\u001b[1;32m<ipython-input-37-2c969ba9cc85>\u001b[0m in \u001b[0;36m<module>\u001b[1;34m\u001b[0m\n\u001b[1;32m----> 1\u001b[1;33m \u001b[0ma_list\u001b[0m\u001b[1;33m.\u001b[0m\u001b[0mremove\u001b[0m\u001b[1;33m(\u001b[0m\u001b[1;34m\"2\"\u001b[0m\u001b[1;33m)\u001b[0m \u001b[1;31m#Try and remove the string \"2\", even though it was already removed and is no longer in a_list\u001b[0m\u001b[1;33m\u001b[0m\u001b[1;33m\u001b[0m\u001b[0m\n\u001b[0m\u001b[0;32m      2\u001b[0m \u001b[0mprint\u001b[0m\u001b[1;33m(\u001b[0m\u001b[0ma_list\u001b[0m\u001b[1;33m)\u001b[0m\u001b[1;33m\u001b[0m\u001b[1;33m\u001b[0m\u001b[0m\n",
      "\u001b[1;31mValueError\u001b[0m: list.remove(x): x not in list"
     ]
    }
   ],
   "source": [
    "a_list.remove(\"2\") #Try and remove the string \"2\", even though it was already removed and is no longer in a_list\n",
    "print(a_list)"
   ]
  },
  {
   "cell_type": "markdown",
   "metadata": {},
   "source": [
    "If we have multiple elements in the list that are the same, such as in the example below, *remove()* will only remove *ONE* of these elements, not both."
   ]
  },
  {
   "cell_type": "code",
   "execution_count": 38,
   "metadata": {},
   "outputs": [
    {
     "name": "stdout",
     "output_type": "stream",
     "text": [
      "['cat', 'dog', 'bird', 'bird']\n"
     ]
    }
   ],
   "source": [
    "print(b_list)"
   ]
  },
  {
   "cell_type": "code",
   "execution_count": 39,
   "metadata": {},
   "outputs": [
    {
     "name": "stdout",
     "output_type": "stream",
     "text": [
      "['cat', 'dog', 'bird']\n"
     ]
    }
   ],
   "source": [
    "b_list.remove('bird')\n",
    "print(b_list)"
   ]
  },
  {
   "cell_type": "markdown",
   "metadata": {},
   "source": [
    "##### insert(i,x)"
   ]
  },
  {
   "cell_type": "markdown",
   "metadata": {},
   "source": [
    "When we use the method *index(i,x)*, *i* is the index where we would like to insert the element and *x* is the element that we will insert."
   ]
  },
  {
   "cell_type": "code",
   "execution_count": 40,
   "metadata": {},
   "outputs": [
    {
     "name": "stdout",
     "output_type": "stream",
     "text": [
      "['cat', 'dog', 'cow', 'bird']\n"
     ]
    }
   ],
   "source": [
    "b_list.insert(2, \"cow\")\n",
    "print(b_list)"
   ]
  },
  {
   "cell_type": "markdown",
   "metadata": {},
   "source": [
    "In the example above, we inserted the element \"*cow*\" and index 2 so it is now the third element in the list. Notice that this does not replace the element at index 2, it simple adds it.\n",
    "\n",
    "If we wanted to change the element at an index, we can do so like this:"
   ]
  },
  {
   "cell_type": "code",
   "execution_count": 41,
   "metadata": {},
   "outputs": [
    {
     "name": "stdout",
     "output_type": "stream",
     "text": [
      "['cat', 'dog', 'mouse', 'bird']\n"
     ]
    }
   ],
   "source": [
    "b_list[2] = \"mouse\" #Changes the element at index 2 in the list\n",
    "print(b_list)"
   ]
  },
  {
   "cell_type": "markdown",
   "metadata": {},
   "source": [
    "The element at index 2 has been changed from \"*cow*\" to \"*mouse*\".\n",
    "\n",
    "However, we can not use this to *ADD* to the end of a list. Again, we get an IndexError because the index position 4 does not exist in this list, therefor there is no element we can change or replace."
   ]
  },
  {
   "cell_type": "code",
   "execution_count": 42,
   "metadata": {},
   "outputs": [
    {
     "ename": "IndexError",
     "evalue": "list assignment index out of range",
     "output_type": "error",
     "traceback": [
      "\u001b[1;31m---------------------------------------------------------------------------\u001b[0m",
      "\u001b[1;31mIndexError\u001b[0m                                Traceback (most recent call last)",
      "\u001b[1;32m<ipython-input-42-9c25832ce536>\u001b[0m in \u001b[0;36m<module>\u001b[1;34m\u001b[0m\n\u001b[1;32m----> 1\u001b[1;33m \u001b[0mb_list\u001b[0m\u001b[1;33m[\u001b[0m\u001b[1;36m4\u001b[0m\u001b[1;33m]\u001b[0m \u001b[1;33m=\u001b[0m \u001b[1;34m\"horse\"\u001b[0m\u001b[1;33m\u001b[0m\u001b[1;33m\u001b[0m\u001b[0m\n\u001b[0m\u001b[0;32m      2\u001b[0m \u001b[0mprint\u001b[0m\u001b[1;33m(\u001b[0m\u001b[0mb_list\u001b[0m\u001b[1;33m)\u001b[0m\u001b[1;33m\u001b[0m\u001b[1;33m\u001b[0m\u001b[0m\n",
      "\u001b[1;31mIndexError\u001b[0m: list assignment index out of range"
     ]
    }
   ],
   "source": [
    "b_list[4] = \"horse\"\n",
    "print(b_list)"
   ]
  },
  {
   "cell_type": "markdown",
   "metadata": {},
   "source": [
    "##### pop(i)"
   ]
  },
  {
   "cell_type": "markdown",
   "metadata": {},
   "source": [
    "The *pop()* method lets us remove an item from a list by using its index. If we do not provide an index number, it will remove the last element of the list."
   ]
  },
  {
   "cell_type": "code",
   "execution_count": 43,
   "metadata": {},
   "outputs": [
    {
     "name": "stdout",
     "output_type": "stream",
     "text": [
      "[1, 2, 3, 4, 5]\n"
     ]
    }
   ],
   "source": [
    "p_list = [1,2,3,4,5,6]\n",
    "p_list.pop()\n",
    "print(p_list)"
   ]
  },
  {
   "cell_type": "markdown",
   "metadata": {},
   "source": [
    "In the example above, the last element of the list (index 5, element *6*) was removed from the list."
   ]
  },
  {
   "cell_type": "code",
   "execution_count": 44,
   "metadata": {},
   "outputs": [
    {
     "name": "stdout",
     "output_type": "stream",
     "text": [
      "[2, 3, 4, 5]\n"
     ]
    }
   ],
   "source": [
    "p_list.pop(0) #remove the first element of the list\n",
    "print(p_list)"
   ]
  },
  {
   "cell_type": "markdown",
   "metadata": {},
   "source": [
    "If we try to pop and element at an index that is not in the list (right now, our list only has 4 elements so if we try and remove the 5th element), we will recieve an IndexError."
   ]
  },
  {
   "cell_type": "code",
   "execution_count": 45,
   "metadata": {},
   "outputs": [
    {
     "ename": "IndexError",
     "evalue": "pop index out of range",
     "output_type": "error",
     "traceback": [
      "\u001b[1;31m---------------------------------------------------------------------------\u001b[0m",
      "\u001b[1;31mIndexError\u001b[0m                                Traceback (most recent call last)",
      "\u001b[1;32m<ipython-input-45-e4249c0fa3d3>\u001b[0m in \u001b[0;36m<module>\u001b[1;34m\u001b[0m\n\u001b[1;32m----> 1\u001b[1;33m \u001b[0mp_list\u001b[0m\u001b[1;33m.\u001b[0m\u001b[0mpop\u001b[0m\u001b[1;33m(\u001b[0m\u001b[1;36m4\u001b[0m\u001b[1;33m)\u001b[0m\u001b[1;33m\u001b[0m\u001b[1;33m\u001b[0m\u001b[0m\n\u001b[0m",
      "\u001b[1;31mIndexError\u001b[0m: pop index out of range"
     ]
    }
   ],
   "source": [
    "p_list.pop(4)"
   ]
  },
  {
   "cell_type": "markdown",
   "metadata": {},
   "source": [
    "##### count(x)"
   ]
  },
  {
   "cell_type": "markdown",
   "metadata": {},
   "source": [
    "The method *count()* lets us determin if there are duplicates within a list."
   ]
  },
  {
   "cell_type": "code",
   "execution_count": 1,
   "metadata": {},
   "outputs": [
    {
     "name": "stdout",
     "output_type": "stream",
     "text": [
      "2\n"
     ]
    }
   ],
   "source": [
    "nums = [1, 1, 2, 4, 6, 5, 4, 8, 9, 7, 7, 3, 10]\n",
    "print(nums.count(1)) #how many ones are in the list nums"
   ]
  },
  {
   "cell_type": "code",
   "execution_count": 2,
   "metadata": {},
   "outputs": [
    {
     "name": "stdout",
     "output_type": "stream",
     "text": [
      "1\n"
     ]
    }
   ],
   "source": [
    "print(nums.count(3)) #how many threes are in the list nums"
   ]
  },
  {
   "cell_type": "code",
   "execution_count": 3,
   "metadata": {},
   "outputs": [
    {
     "name": "stdout",
     "output_type": "stream",
     "text": [
      "2\n"
     ]
    }
   ],
   "source": [
    "a_string = \"A Python is a snake, Python is a programming language\"\n",
    "print(a_string.count(\"Python\"))"
   ]
  },
  {
   "cell_type": "markdown",
   "metadata": {},
   "source": [
    "We can also use this method to check for reoccuring words within a string. It is important to note that this method is *case sensitive*."
   ]
  },
  {
   "cell_type": "code",
   "execution_count": 4,
   "metadata": {},
   "outputs": [
    {
     "name": "stdout",
     "output_type": "stream",
     "text": [
      "1\n"
     ]
    }
   ],
   "source": [
    "a_string = \"A python is a snake, Python is a programming language\"\n",
    "print(a_string.count(\"Python\"))"
   ]
  },
  {
   "cell_type": "markdown",
   "metadata": {},
   "source": [
    "##### sort()"
   ]
  },
  {
   "cell_type": "markdown",
   "metadata": {},
   "source": [
    "This method allows us to sort lists either in ascending or descending order:"
   ]
  },
  {
   "cell_type": "code",
   "execution_count": 5,
   "metadata": {},
   "outputs": [
    {
     "name": "stdout",
     "output_type": "stream",
     "text": [
      "[1, 5, 7, 8, 9]\n",
      "['Aunt', 'Can', 'Change', 'Lake', 'List']\n"
     ]
    }
   ],
   "source": [
    "num_list = [5, 9, 7, 8, 1]\n",
    "string_list = [\"Change\", \"Can\", \"Aunt\", \"Lake\", \"List\"]\n",
    "num_list.sort() #sorts from numbers from smallest to largest\n",
    "print(num_list) \n",
    "string_list.sort() #sorts strings in alphabetical order\n",
    "print(string_list)"
   ]
  },
  {
   "cell_type": "code",
   "execution_count": 6,
   "metadata": {},
   "outputs": [
    {
     "name": "stdout",
     "output_type": "stream",
     "text": [
      "['A', 'Z', 'b', 'd', 'j']\n"
     ]
    }
   ],
   "source": [
    "#if you have strings starting with capital and lowercase letters, it will sort the capital letters first\n",
    "alpha_list = [\"A\", \"b\", \"d\", \"Z\", \"j\"]\n",
    "alpha_list.sort()\n",
    "print(alpha_list)"
   ]
  },
  {
   "cell_type": "markdown",
   "metadata": {},
   "source": [
    "If we wanted to sort the list in desecnding order, we set *reverse=True* inside the method. *sort()* assumes *reverse=False* (ascending order) unless specified."
   ]
  },
  {
   "cell_type": "code",
   "execution_count": 8,
   "metadata": {},
   "outputs": [
    {
     "name": "stdout",
     "output_type": "stream",
     "text": [
      "[9, 8, 7, 5, 1]\n",
      "['List', 'Lake', 'Change', 'Can', 'Aunt']\n",
      "['j', 'd', 'b', 'Z', 'A']\n"
     ]
    }
   ],
   "source": [
    "num_list.sort(reverse=True)\n",
    "print(num_list)\n",
    "string_list.sort(reverse=True)\n",
    "print(string_list)\n",
    "alpha_list.sort(reverse=True)\n",
    "print(alpha_list)"
   ]
  },
  {
   "cell_type": "markdown",
   "metadata": {},
   "source": [
    "sort(key=None, reverse=False) -- was unsure about the key aspect of this??"
   ]
  },
  {
   "cell_type": "markdown",
   "metadata": {},
   "source": [
    "##### reverse()"
   ]
  },
  {
   "cell_type": "markdown",
   "metadata": {},
   "source": [
    "This method updates the list so that it's values are reversed. "
   ]
  },
  {
   "cell_type": "code",
   "execution_count": 9,
   "metadata": {},
   "outputs": [
    {
     "name": "stdout",
     "output_type": "stream",
     "text": [
      "[2, 0, 8, 7, 9, 3]\n"
     ]
    }
   ],
   "source": [
    "r_list = [3,9,7,8,0,2]\n",
    "r_list.reverse()\n",
    "print(r_list)"
   ]
  },
  {
   "cell_type": "markdown",
   "metadata": {},
   "source": [
    "Reverse using [::-1] ?? I'm not really sure how to do this part"
   ]
  },
  {
   "cell_type": "markdown",
   "metadata": {},
   "source": [
    "##### copy()"
   ]
  },
  {
   "cell_type": "markdown",
   "metadata": {},
   "source": [
    "This method allows us to copy a list. When creating a copy of a list, you might try this:"
   ]
  },
  {
   "cell_type": "code",
   "execution_count": 10,
   "metadata": {},
   "outputs": [
    {
     "name": "stdout",
     "output_type": "stream",
     "text": [
      "[1, 2, 3]\n",
      "[1, 2, 3]\n"
     ]
    }
   ],
   "source": [
    "original = [1,2,3]\n",
    "copy1 = original\n",
    "print(original)\n",
    "print(copy1)"
   ]
  },
  {
   "cell_type": "markdown",
   "metadata": {},
   "source": [
    "This may *look* like it works, but what if we try appending to the end of the original list..."
   ]
  },
  {
   "cell_type": "code",
   "execution_count": 11,
   "metadata": {},
   "outputs": [
    {
     "name": "stdout",
     "output_type": "stream",
     "text": [
      "[1, 2, 3, 4]\n",
      "[1, 2, 3, 4]\n"
     ]
    }
   ],
   "source": [
    "original.append(4)\n",
    "print(original)\n",
    "print(copy1)"
   ]
  },
  {
   "cell_type": "markdown",
   "metadata": {},
   "source": [
    "As we can see, the change was also made to the list copy. This is because we did not copy the list, but create another *pointer* to the list *original*. Whatever changes we make to *original* will also be made to *copy* and whatever changes we make to *copy* will also be made to *original* becuase they are still the *SAME* list.\n",
    "\n",
    "However we can make a copy of a list using splicing like this:"
   ]
  },
  {
   "cell_type": "code",
   "execution_count": 12,
   "metadata": {},
   "outputs": [
    {
     "name": "stdout",
     "output_type": "stream",
     "text": [
      "[1, 2, 3, 4]\n",
      "[1, 2, 3, 4]\n",
      "[1, 2, 3, 4, 5]\n",
      "[1, 2, 3, 4]\n"
     ]
    }
   ],
   "source": [
    "print(original)\n",
    "print(copy1)\n",
    "copy1 = original[:]\n",
    "original.append(5)\n",
    "print(original)\n",
    "print(copy1)"
   ]
  },
  {
   "cell_type": "markdown",
   "metadata": {},
   "source": [
    "We can also make a copy of a list using the method *copy()* like this:"
   ]
  },
  {
   "cell_type": "code",
   "execution_count": 13,
   "metadata": {},
   "outputs": [
    {
     "name": "stdout",
     "output_type": "stream",
     "text": [
      "[1, 2, 3, 4]\n"
     ]
    }
   ],
   "source": [
    "copy2 = copy1.copy()\n",
    "print(copy2)"
   ]
  },
  {
   "cell_type": "code",
   "execution_count": 14,
   "metadata": {},
   "outputs": [
    {
     "name": "stdout",
     "output_type": "stream",
     "text": [
      "[1, 2, 3, 4, 6]\n",
      "[1, 2, 3, 4]\n"
     ]
    }
   ],
   "source": [
    "copy1.append(6)\n",
    "print(copy1)\n",
    "print(copy2)"
   ]
  },
  {
   "cell_type": "markdown",
   "metadata": {},
   "source": [
    "#### Functions"
   ]
  },
  {
   "cell_type": "markdown",
   "metadata": {},
   "source": [
    "There are also some *functions* we can use to modify lists in Python."
   ]
  },
  {
   "cell_type": "markdown",
   "metadata": {},
   "source": [
    "##### list(x)"
   ]
  },
  {
   "cell_type": "markdown",
   "metadata": {},
   "source": [
    "This function will take a string and turn it into a list. "
   ]
  },
  {
   "cell_type": "code",
   "execution_count": 15,
   "metadata": {},
   "outputs": [
    {
     "name": "stdout",
     "output_type": "stream",
     "text": [
      "['h', 'e', 'l', 'l', 'o', ' ', 'w', 'o', 'r', 'l', 'd']\n"
     ]
    }
   ],
   "source": [
    "some_string = \"hello world\"\n",
    "print(list(some_string))"
   ]
  },
  {
   "cell_type": "markdown",
   "metadata": {},
   "source": [
    "##### len(x)"
   ]
  },
  {
   "cell_type": "markdown",
   "metadata": {},
   "source": [
    "This function allows us to find the length of a list."
   ]
  },
  {
   "cell_type": "code",
   "execution_count": 16,
   "metadata": {},
   "outputs": [
    {
     "name": "stdout",
     "output_type": "stream",
     "text": [
      "15\n"
     ]
    }
   ],
   "source": [
    "some_list = [1,2,3,4,5,6,7,8,9,10,11,12,13,14,15] \n",
    "print(len(some_list)) #print the length of some_list"
   ]
  },
  {
   "cell_type": "markdown",
   "metadata": {},
   "source": [
    "This function tells us that there are 15 elements in our list, which means that we have elements in index places 0-14."
   ]
  },
  {
   "cell_type": "markdown",
   "metadata": {},
   "source": [
    "##### max(x)"
   ]
  },
  {
   "cell_type": "markdown",
   "metadata": {},
   "source": [
    "This function returns the maximum value of a list."
   ]
  },
  {
   "cell_type": "code",
   "execution_count": 17,
   "metadata": {},
   "outputs": [
    {
     "name": "stdout",
     "output_type": "stream",
     "text": [
      "[1, 2, 3, 4, 6]\n",
      "6\n"
     ]
    }
   ],
   "source": [
    "print(copy1)\n",
    "print(max(copy1))"
   ]
  },
  {
   "cell_type": "markdown",
   "metadata": {},
   "source": [
    "If you pass a list of strings through, an alphabetical comparison is done. Lowercase is considered *higher* than uppercase and the further down the alphabet (closer to z), the *higher* the string is."
   ]
  },
  {
   "cell_type": "code",
   "execution_count": 18,
   "metadata": {},
   "outputs": [
    {
     "name": "stdout",
     "output_type": "stream",
     "text": [
      "c\n"
     ]
    }
   ],
   "source": [
    "some_strings = [\"a\", \"B\", \"c\", \"Z\", \"bx\"]\n",
    "print(max(some_strings))"
   ]
  },
  {
   "cell_type": "markdown",
   "metadata": {},
   "source": [
    "If we have strings that start with the same letter of highest value, it then will look at the next letter in the strings and compare them alphabetically"
   ]
  },
  {
   "cell_type": "code",
   "execution_count": 19,
   "metadata": {},
   "outputs": [
    {
     "name": "stdout",
     "output_type": "stream",
     "text": [
      "['a', 'B', 'c', 'Z', 'bx', 'cx', 'cj']\n",
      "cx\n"
     ]
    }
   ],
   "source": [
    "some_strings.append(\"cx\")\n",
    "some_strings.append(\"cj\")\n",
    "print(some_strings)\n",
    "print(max(some_strings))"
   ]
  },
  {
   "cell_type": "markdown",
   "metadata": {},
   "source": [
    "##### min(x)"
   ]
  },
  {
   "cell_type": "markdown",
   "metadata": {},
   "source": [
    "This function returns the minimum value in a list."
   ]
  },
  {
   "cell_type": "code",
   "execution_count": 20,
   "metadata": {},
   "outputs": [
    {
     "name": "stdout",
     "output_type": "stream",
     "text": [
      "1\n"
     ]
    }
   ],
   "source": [
    "print(min(copy1))"
   ]
  },
  {
   "cell_type": "markdown",
   "metadata": {},
   "source": [
    "If we pass through a list of strings, an alphabetical comparison is done. Uppercase letters are *lower* than lowercase letters."
   ]
  },
  {
   "cell_type": "code",
   "execution_count": 21,
   "metadata": {},
   "outputs": [
    {
     "name": "stdout",
     "output_type": "stream",
     "text": [
      "B\n"
     ]
    }
   ],
   "source": [
    "print(min(some_strings))"
   ]
  },
  {
   "cell_type": "code",
   "execution_count": 25,
   "metadata": {},
   "outputs": [
    {
     "name": "stdout",
     "output_type": "stream",
     "text": [
      "AB\n"
     ]
    }
   ],
   "source": [
    "some_strings.append(\"AB\")\n",
    "print(min(some_strings))"
   ]
  },
  {
   "cell_type": "markdown",
   "metadata": {},
   "source": [
    "### Dictionaries\n",
    "\n",
    "Similar to lists dictionaries are used to store variables. A notable difference is they are stored as key value pairs and offer more or less fixed look up time.(with the use of hash tables)\n",
    "\n",
    "A key in a dictionary must be an immutable object (string, tuple, int) and keys in the same dictionary do not need to conform to a single datatype.\n",
    "\n",
    "A value in a dictionary is more flexable, any python object can be included as a value.\n",
    "\n",
    "\n",
    "A dictionary in python is a mutable data structure.\n",
    "Note: As of Python 3.6, dictionaries keep the insertion order."
   ]
  },
  {
   "cell_type": "markdown",
   "metadata": {},
   "source": [
    "#### There are two ways of creating a python dictionary\n",
    "##### Using curly braces seperated by a colon (:)\n",
    "\n",
    "This is by far the most flexable way of definin a dictionary in python."
   ]
  },
  {
   "cell_type": "code",
   "execution_count": 4,
   "metadata": {},
   "outputs": [
    {
     "data": {
      "text/plain": [
       "{'Name': 'Mahdi', 'Major': 'PPE', 'Mood': 'Angry'}"
      ]
     },
     "execution_count": 4,
     "metadata": {},
     "output_type": "execute_result"
    }
   ],
   "source": [
    "student1 = {\"Name\":\"Mahdi\", \"Major\":\"PPE\", \"Mood\":\"Angry\"}\n",
    "student1"
   ]
  },
  {
   "cell_type": "markdown",
   "metadata": {},
   "source": [
    "##### Using dict function\n",
    "This method is a bit more constrained as it enforces each argument(keys to the dict) to be interpreted as a string."
   ]
  },
  {
   "cell_type": "code",
   "execution_count": 13,
   "metadata": {},
   "outputs": [
    {
     "data": {
      "text/plain": [
       "{'Name': 'Mahdi', 'Major': 'PPE', 'Mood': 'Angry'}"
      ]
     },
     "execution_count": 13,
     "metadata": {},
     "output_type": "execute_result"
    }
   ],
   "source": [
    "student1 = dict(Name=\"Mahdi\", Major=\"PPE\", Mood=\"Angry\")\n",
    "student1"
   ]
  },
  {
   "cell_type": "markdown",
   "metadata": {},
   "source": [
    "#### Methods"
   ]
  },
  {
   "cell_type": "code",
   "execution_count": 14,
   "metadata": {},
   "outputs": [
    {
     "name": "stdout",
     "output_type": "stream",
     "text": [
      "Mahdi\n",
      "Mahdi\n"
     ]
    }
   ],
   "source": [
    "# Getting an element from the dictionary\n",
    "print(student1.get(\"Name\"))\n",
    "\n",
    "# We can also use a shorthand\n",
    "print(student1[\"Name\"])"
   ]
  },
  {
   "cell_type": "code",
   "execution_count": 48,
   "metadata": {},
   "outputs": [
    {
     "name": "stdout",
     "output_type": "stream",
     "text": [
      "Very angry\n",
      "Slightly less angry\n"
     ]
    }
   ],
   "source": [
    "# Changing the value of a key\n",
    "student1.update({\"Mood\":\"Very angry\"}) # Notice it takes another dictionary as argument.\n",
    "print(student1[\"Mood\"])\n",
    "\n",
    "# We can also the syntactic sugar.\n",
    "student1[\"Mood\"] = \"Slightly less angry\"\n",
    "print(student1[\"Mood\"])"
   ]
  },
  {
   "cell_type": "code",
   "execution_count": 31,
   "metadata": {},
   "outputs": [
    {
     "name": "stdout",
     "output_type": "stream",
     "text": [
      "dict_items([('Name', 'Mahdi'), ('Major', 'PPE'), ('Mood', 'Slightly less angry')])\n",
      "\n",
      "Name Mahdi\n",
      "Major PPE\n",
      "Mood Slightly less angry\n",
      "\n",
      "Name\n",
      "Major\n",
      "Mood\n",
      "\n",
      "Mahdi\n",
      "PPE\n",
      "Slightly less angry\n"
     ]
    }
   ],
   "source": [
    "# Iterating over a dictionary\n",
    "print(student1.items())\n",
    "print() # To reduce the clutter\n",
    "\n",
    "# This is a special object in python where when \n",
    "#iterating returns key:value pairs in a dictionary as tuples one by one\n",
    "for key,val in student1.items():\n",
    "    print(key,val)\n",
    "print() # To reduce the clutter\n",
    "\n",
    "# We can also iterate over the keys of the dictionary\n",
    "# We do this by either calling dictionary.keys() or just the dictionary which returns the keys \n",
    "for key in student1:\n",
    "    print(key)\n",
    "print() # To reduce the clutter\n",
    "    \n",
    "# We can iterate over just the values as follows\n",
    "for val in student1.values():\n",
    "    print(val)"
   ]
  },
  {
   "cell_type": "markdown",
   "metadata": {},
   "source": [
    "#### Functions"
   ]
  },
  {
   "cell_type": "code",
   "execution_count": null,
   "metadata": {},
   "outputs": [],
   "source": []
  },
  {
   "cell_type": "markdown",
   "metadata": {},
   "source": [
    "### Sets"
   ]
  },
  {
   "cell_type": "markdown",
   "metadata": {},
   "source": [
    "Sets can be created in Python by using curly brackets and seperating the elements with a comma. A set can *not* contain diblicate elements, and these elements can not be changed. A set can be changed by adding or removing elements from a set.\n",
    "\n",
    "We can create a set like this:"
   ]
  },
  {
   "cell_type": "code",
   "execution_count": 1,
   "metadata": {},
   "outputs": [
    {
     "name": "stdout",
     "output_type": "stream",
     "text": [
      "{1, 2.5, 'Hello', 'a'}\n"
     ]
    }
   ],
   "source": [
    "a_set = {1, \"a\", 2.5, \"Hello\"}\n",
    "print(a_set)"
   ]
  },
  {
   "cell_type": "markdown",
   "metadata": {},
   "source": [
    "If we try to create a set with duplicates of the same element, this will happen:"
   ]
  },
  {
   "cell_type": "code",
   "execution_count": 2,
   "metadata": {},
   "outputs": [
    {
     "name": "stdout",
     "output_type": "stream",
     "text": [
      "{1, 2, 5, 7, 8}\n"
     ]
    }
   ],
   "source": [
    "b_set = {1, 1, 2, 5, 7, 8}\n",
    "print(b_set)"
   ]
  },
  {
   "cell_type": "markdown",
   "metadata": {},
   "source": [
    "When we print the set, the duplicate elements are not printed."
   ]
  },
  {
   "cell_type": "markdown",
   "metadata": {},
   "source": [
    "We can add or remove elements from a set using the *add()* or *remove()* methods."
   ]
  },
  {
   "cell_type": "code",
   "execution_count": 3,
   "metadata": {},
   "outputs": [
    {
     "name": "stdout",
     "output_type": "stream",
     "text": [
      "{1, 2, 5, 7, 8, 12}\n"
     ]
    }
   ],
   "source": [
    "b_set.add(12)\n",
    "print(b_set)"
   ]
  },
  {
   "cell_type": "code",
   "execution_count": 4,
   "metadata": {},
   "outputs": [
    {
     "name": "stdout",
     "output_type": "stream",
     "text": [
      "{1, 2, 7, 8, 12}\n"
     ]
    }
   ],
   "source": [
    "b_set.remove(5)\n",
    "print(b_set)"
   ]
  },
  {
   "cell_type": "markdown",
   "metadata": {},
   "source": [
    "#### Methods"
   ]
  },
  {
   "cell_type": "markdown",
   "metadata": {},
   "source": [
    "There are other operations we can perform on sets."
   ]
  },
  {
   "cell_type": "code",
   "execution_count": 5,
   "metadata": {},
   "outputs": [],
   "source": [
    "A = {1,2,3,4,5}\n",
    "B = {4,5,6,7,8}"
   ]
  },
  {
   "cell_type": "markdown",
   "metadata": {},
   "source": [
    "##### intersection()"
   ]
  },
  {
   "cell_type": "markdown",
   "metadata": {},
   "source": [
    "The method *intersection()* will give us the overlapping elements between two sets. In other words, the elements that are in both sets."
   ]
  },
  {
   "cell_type": "code",
   "execution_count": 8,
   "metadata": {},
   "outputs": [
    {
     "data": {
      "text/plain": [
       "{4, 5}"
      ]
     },
     "execution_count": 8,
     "metadata": {},
     "output_type": "execute_result"
    }
   ],
   "source": [
    "A.intersection(B)"
   ]
  },
  {
   "cell_type": "code",
   "execution_count": 9,
   "metadata": {},
   "outputs": [
    {
     "data": {
      "text/plain": [
       "{4, 5}"
      ]
     },
     "execution_count": 9,
     "metadata": {},
     "output_type": "execute_result"
    }
   ],
   "source": [
    "B.intersection(A)"
   ]
  },
  {
   "cell_type": "markdown",
   "metadata": {},
   "source": [
    "The intersection between the sets A and B is the same as the intersection between the sets B and A, as we can see from the example above."
   ]
  },
  {
   "cell_type": "markdown",
   "metadata": {},
   "source": [
    "##### difference()"
   ]
  },
  {
   "cell_type": "markdown",
   "metadata": {},
   "source": [
    "The method *difference()* gives us the elements that are in one set but not the other. Unlike *intersection()*, the difference of A and B is *not* the same as the difference between B and A.\n",
    "\n",
    "If we want the elements that are in set A but *not* in set B, or the difference of the set B from set A (A-B):"
   ]
  },
  {
   "cell_type": "code",
   "execution_count": 10,
   "metadata": {},
   "outputs": [
    {
     "data": {
      "text/plain": [
       "{1, 2, 3}"
      ]
     },
     "execution_count": 10,
     "metadata": {},
     "output_type": "execute_result"
    }
   ],
   "source": [
    "A.difference(B)"
   ]
  },
  {
   "cell_type": "markdown",
   "metadata": {},
   "source": [
    "If we want the elements that are in set B but *not* in set A, or the difference of set A from set B(B-A): "
   ]
  },
  {
   "cell_type": "code",
   "execution_count": 11,
   "metadata": {},
   "outputs": [
    {
     "data": {
      "text/plain": [
       "{6, 7, 8}"
      ]
     },
     "execution_count": 11,
     "metadata": {},
     "output_type": "execute_result"
    }
   ],
   "source": [
    "B.difference(A)"
   ]
  },
  {
   "cell_type": "markdown",
   "metadata": {},
   "source": [
    "##### union()"
   ]
  },
  {
   "cell_type": "markdown",
   "metadata": {},
   "source": [
    "The method *union* gives us the the set of all elements from both sets. A union B will give the same result as B union A."
   ]
  },
  {
   "cell_type": "code",
   "execution_count": 12,
   "metadata": {},
   "outputs": [
    {
     "data": {
      "text/plain": [
       "{1, 2, 3, 4, 5, 6, 7, 8}"
      ]
     },
     "execution_count": 12,
     "metadata": {},
     "output_type": "execute_result"
    }
   ],
   "source": [
    "A.union(B)"
   ]
  },
  {
   "cell_type": "code",
   "execution_count": 13,
   "metadata": {},
   "outputs": [
    {
     "data": {
      "text/plain": [
       "{1, 2, 3, 4, 5, 6, 7, 8}"
      ]
     },
     "execution_count": 13,
     "metadata": {},
     "output_type": "execute_result"
    }
   ],
   "source": [
    "B.union(A)"
   ]
  },
  {
   "cell_type": "markdown",
   "metadata": {},
   "source": [
    "Notice again that duplicate elements are not included in the output."
   ]
  },
  {
   "cell_type": "markdown",
   "metadata": {},
   "source": [
    "## Loops"
   ]
  },
  {
   "cell_type": "markdown",
   "metadata": {},
   "source": [
    "For Loops and While Loops are primitive loops."
   ]
  },
  {
   "cell_type": "markdown",
   "metadata": {},
   "source": [
    "### While Loops"
   ]
  },
  {
   "cell_type": "markdown",
   "metadata": {},
   "source": [
    "While Loops will execute while a condition is *true*. Because of this, we must be careful not to create an infinite loop."
   ]
  },
  {
   "cell_type": "code",
   "execution_count": 15,
   "metadata": {},
   "outputs": [
    {
     "name": "stdout",
     "output_type": "stream",
     "text": [
      "[0, 1, 2, 3, 4, 5, 6, 7, 8, 9]\n"
     ]
    }
   ],
   "source": [
    "a_list = []\n",
    "i = 0\n",
    "while i < 10:\n",
    "    a_list.append(i) #adds the value of i to the list\n",
    "    #If we did not write any more code within this loop, the value of i would always be less than 10.\n",
    "    #The while condition would never become false, so the loop will never end.\n",
    "    #This is an infinite loop.\n",
    "    i = i+1 #This keeps the loop from being infinite\n",
    "print(a_list)"
   ]
  },
  {
   "cell_type": "markdown",
   "metadata": {},
   "source": [
    "Indenting is very important when writing code in Python. In the case of loops, only the indented code is within the loop. If we wanted to print the elements of a list, we would write something like this:"
   ]
  },
  {
   "cell_type": "code",
   "execution_count": 16,
   "metadata": {},
   "outputs": [
    {
     "name": "stdout",
     "output_type": "stream",
     "text": [
      "0\n",
      "1\n",
      "2\n",
      "3\n",
      "4\n",
      "5\n",
      "6\n",
      "7\n",
      "8\n",
      "9\n"
     ]
    }
   ],
   "source": [
    "x = 0\n",
    "while x < 10:\n",
    "    print(a_list[x])\n",
    "    x = x + 1"
   ]
  },
  {
   "cell_type": "markdown",
   "metadata": {},
   "source": [
    "If we didn't know how many elements in the list, we could write out loop like this:"
   ]
  },
  {
   "cell_type": "code",
   "execution_count": 17,
   "metadata": {},
   "outputs": [
    {
     "name": "stdout",
     "output_type": "stream",
     "text": [
      "0\n",
      "1\n",
      "2\n",
      "3\n",
      "4\n",
      "5\n",
      "6\n",
      "7\n",
      "8\n",
      "9\n"
     ]
    }
   ],
   "source": [
    "x = 0\n",
    "while x < len(a_list):\n",
    "    print(a_list[x])\n",
    "    x = x + 1"
   ]
  },
  {
   "cell_type": "markdown",
   "metadata": {},
   "source": [
    "Remember that when we index a list, we start at 0 not 1. Because of this, if our list has 10 elements, it has index values 0-9. This means that the while loop above will print *ALL* elements in the list. \n",
    "\n",
    "If we wrote len(a_list) + 1, we would get an indexing error because there is no elements at the 10th index in the list."
   ]
  },
  {
   "cell_type": "code",
   "execution_count": 18,
   "metadata": {},
   "outputs": [
    {
     "name": "stdout",
     "output_type": "stream",
     "text": [
      "0\n",
      "1\n",
      "2\n",
      "3\n",
      "4\n",
      "5\n",
      "6\n",
      "7\n",
      "8\n",
      "9\n"
     ]
    },
    {
     "ename": "IndexError",
     "evalue": "list index out of range",
     "output_type": "error",
     "traceback": [
      "\u001b[1;31m---------------------------------------------------------------------------\u001b[0m",
      "\u001b[1;31mIndexError\u001b[0m                                Traceback (most recent call last)",
      "\u001b[1;32m<ipython-input-18-5ac2ec5ea02f>\u001b[0m in \u001b[0;36m<module>\u001b[1;34m\u001b[0m\n\u001b[0;32m      1\u001b[0m \u001b[0mx\u001b[0m \u001b[1;33m=\u001b[0m \u001b[1;36m0\u001b[0m\u001b[1;33m\u001b[0m\u001b[1;33m\u001b[0m\u001b[0m\n\u001b[0;32m      2\u001b[0m \u001b[1;32mwhile\u001b[0m \u001b[0mx\u001b[0m \u001b[1;33m<\u001b[0m \u001b[0mlen\u001b[0m\u001b[1;33m(\u001b[0m\u001b[0ma_list\u001b[0m\u001b[1;33m)\u001b[0m\u001b[1;33m+\u001b[0m\u001b[1;36m1\u001b[0m\u001b[1;33m:\u001b[0m\u001b[1;33m\u001b[0m\u001b[1;33m\u001b[0m\u001b[0m\n\u001b[1;32m----> 3\u001b[1;33m     \u001b[0mprint\u001b[0m\u001b[1;33m(\u001b[0m\u001b[0ma_list\u001b[0m\u001b[1;33m[\u001b[0m\u001b[0mx\u001b[0m\u001b[1;33m]\u001b[0m\u001b[1;33m)\u001b[0m\u001b[1;33m\u001b[0m\u001b[1;33m\u001b[0m\u001b[0m\n\u001b[0m\u001b[0;32m      4\u001b[0m     \u001b[0mx\u001b[0m \u001b[1;33m=\u001b[0m \u001b[0mx\u001b[0m \u001b[1;33m+\u001b[0m \u001b[1;36m1\u001b[0m\u001b[1;33m\u001b[0m\u001b[1;33m\u001b[0m\u001b[0m\n",
      "\u001b[1;31mIndexError\u001b[0m: list index out of range"
     ]
    }
   ],
   "source": [
    "x = 0\n",
    "while x < len(a_list)+1:\n",
    "    print(a_list[x])\n",
    "    x = x + 1"
   ]
  },
  {
   "cell_type": "markdown",
   "metadata": {},
   "source": [
    "### For Loops"
   ]
  },
  {
   "cell_type": "markdown",
   "metadata": {},
   "source": [
    "For Loops, like While Loops, allow you to iterate through a sequence of things (such as a list, dictionary, set or string)"
   ]
  },
  {
   "cell_type": "code",
   "execution_count": 23,
   "metadata": {},
   "outputs": [
    {
     "name": "stdout",
     "output_type": "stream",
     "text": [
      "0\n",
      "1\n",
      "2\n",
      "3\n",
      "4\n",
      "5\n",
      "6\n",
      "7\n",
      "8\n",
      "9\n"
     ]
    }
   ],
   "source": [
    "for x in a_list:\n",
    "    print(x)"
   ]
  },
  {
   "cell_type": "code",
   "execution_count": 26,
   "metadata": {},
   "outputs": [
    {
     "name": "stdout",
     "output_type": "stream",
     "text": [
      "0\n",
      "1\n",
      "2\n",
      "3\n",
      "4\n",
      "5\n",
      "6\n",
      "7\n",
      "8\n",
      "9\n"
     ]
    }
   ],
   "source": [
    "for x in range(len(a_list)): #range would be from 0 to 9\n",
    "    print(x)"
   ]
  },
  {
   "cell_type": "code",
   "execution_count": 27,
   "metadata": {},
   "outputs": [
    {
     "name": "stdout",
     "output_type": "stream",
     "text": [
      "2\n",
      "3\n",
      "4\n",
      "5\n",
      "6\n",
      "7\n",
      "8\n",
      "9\n"
     ]
    }
   ],
   "source": [
    "for x in range(2,10): #here, range is 2 to 9\n",
    "    print(x)"
   ]
  },
  {
   "cell_type": "code",
   "execution_count": 25,
   "metadata": {},
   "outputs": [
    {
     "name": "stdout",
     "output_type": "stream",
     "text": [
      "Q\n",
      "M\n",
      "I\n",
      "N\n",
      "D\n"
     ]
    }
   ],
   "source": [
    "for x in \"QMIND\":\n",
    "    print(x)"
   ]
  },
  {
   "cell_type": "markdown",
   "metadata": {},
   "source": [
    "## If, Else, Elif Statements"
   ]
  },
  {
   "cell_type": "markdown",
   "metadata": {},
   "source": [
    "If-Else statements execute under a given set of True and False conditions. \n",
    "\n",
    "If we wanted to write an if-else statement that checked if the year was 2020, we could write something like this:"
   ]
  },
  {
   "cell_type": "code",
   "execution_count": 19,
   "metadata": {},
   "outputs": [
    {
     "name": "stdout",
     "output_type": "stream",
     "text": [
      "The year is 2020\n"
     ]
    }
   ],
   "source": [
    "year = 2020\n",
    "if year == 2020:\n",
    "    print(\"The year is 2020\")\n",
    "else:\n",
    "    print(\"The year is not 2020\")"
   ]
  },
  {
   "cell_type": "markdown",
   "metadata": {},
   "source": [
    "If we wanted to write a set of if-else statements to determine the final grade in a course, we could write something like this:"
   ]
  },
  {
   "cell_type": "code",
   "execution_count": 20,
   "metadata": {},
   "outputs": [
    {
     "name": "stdout",
     "output_type": "stream",
     "text": [
      "B+\n"
     ]
    }
   ],
   "source": [
    "grade = 79\n",
    "if 100 >= grade >= 90:\n",
    "    print(\"A+\")\n",
    "elif 89 >= grade >= 85:\n",
    "    print(\"A\")\n",
    "elif 84 >= grade >= 80:\n",
    "    print(\"A-\")\n",
    "elif 79 >= grade >= 77:\n",
    "    print(\"B+\")\n",
    "elif 76 >= grade >= 73:\n",
    "    print(\"B\")\n",
    "elif 72 >= grade >= 70:\n",
    "    print(\"B-\")\n",
    "elif 69 >= grade >= 67:\n",
    "    print(\"C+\")\n",
    "elif 66 >= grade >= 63:\n",
    "    print(\"C\")\n",
    "elif 62 >= grade >= 60:\n",
    "    print(\"C-\")\n",
    "elif 59 >= grade >= 57:\n",
    "    print(\"D+\")\n",
    "elif 56 >= grade >= 53:\n",
    "    print(\"D\")\n",
    "elif 52 >= grade >= 50:\n",
    "    print(\"D-\")\n",
    "else:\n",
    "    print(\"F\")"
   ]
  },
  {
   "cell_type": "markdown",
   "metadata": {},
   "source": [
    "When using a chain of statements like the example above, it is important to remember that as soon as one of the conditions is met, the remainder of the code will not be reached. "
   ]
  },
  {
   "cell_type": "code",
   "execution_count": 21,
   "metadata": {},
   "outputs": [
    {
     "name": "stdout",
     "output_type": "stream",
     "text": [
      "It is 11:30\n"
     ]
    }
   ],
   "source": [
    "time = \"11:30\"\n",
    "if time == \"11:30\":\n",
    "    print(\"It is 11:30\")\n",
    "elif time == \"11:30\":\n",
    "    print(\"It is half past eleven\")\n",
    "else:\n",
    "    print(\"It is not 11:30\")"
   ]
  },
  {
   "cell_type": "markdown",
   "metadata": {},
   "source": [
    "In this example, both the if statement and the elif statement are true. However, since the the condition is already satisfied by the if statement, the rest of the code is not 'seen' and therefor not executed."
   ]
  },
  {
   "cell_type": "markdown",
   "metadata": {},
   "source": [
    "## Functions\n",
    "\n",
    "We can define functions in python using the ```def``` keyword in python.\n",
    "\n",
    "Functions can take any number of arguments and there are no limitations of what can be assigned to a function call.\n",
    "\n",
    "A function ends with a ```return``` statement, if no return statement is provided ```return None``` is assigned automatically.\n",
    "\n",
    "Functions can also return themselves.\n",
    "\n",
    "Lets explore a couple ways to define functions"
   ]
  },
  {
   "cell_type": "code",
   "execution_count": 42,
   "metadata": {},
   "outputs": [
    {
     "name": "stdout",
     "output_type": "stream",
     "text": [
      "Hello\n"
     ]
    }
   ],
   "source": [
    "# A function that takes no arguments\n",
    "def my_function():\n",
    "    return \"Hello\"\n",
    "print(my_function())"
   ]
  },
  {
   "cell_type": "code",
   "execution_count": 41,
   "metadata": {},
   "outputs": [
    {
     "name": "stdout",
     "output_type": "stream",
     "text": [
      "Qmind educate is cool\n",
      "Qmind educate is cool\n"
     ]
    }
   ],
   "source": [
    "# A function that takes one argument\n",
    "def single_argument(a):\n",
    "    return a\n",
    "\n",
    "# this is the same as \n",
    "print(single_argument(\"Qmind educate is cool\"))\n",
    "\n",
    "# this\n",
    "print(single_argument(a = \"Qmind educate is cool\"))"
   ]
  },
  {
   "cell_type": "markdown",
   "metadata": {},
   "source": [
    "### Default and Positional arguments\n",
    "\n",
    "* Default arguments: You can predefine a value for an argument.\n",
    "* Positional arguments: When you are calling a function with the same order of the way the parameters are defined you don't need to type argument1 = x, argument2 = y, etc. "
   ]
  },
  {
   "cell_type": "code",
   "execution_count": 47,
   "metadata": {},
   "outputs": [
    {
     "name": "stdout",
     "output_type": "stream",
     "text": [
      "15\n"
     ]
    }
   ],
   "source": [
    "def sum_all(a = 5, b = 5 , c =5):\n",
    "    return sum([a,b,c])\n",
    "print(sum_all())\n",
    "# Notice how we can get away with not supplying any parameters."
   ]
  },
  {
   "cell_type": "markdown",
   "metadata": {},
   "source": [
    "* You are not allowed to switch to a positional argument after typing in keyword argument manner.\n",
    "\n",
    "Lets see what happends when we try."
   ]
  },
  {
   "cell_type": "code",
   "execution_count": 46,
   "metadata": {},
   "outputs": [
    {
     "ename": "SyntaxError",
     "evalue": "positional argument follows keyword argument (<ipython-input-46-7256b8406c65>, line 3)",
     "output_type": "error",
     "traceback": [
      "\u001b[0;36m  File \u001b[0;32m\"<ipython-input-46-7256b8406c65>\"\u001b[0;36m, line \u001b[0;32m3\u001b[0m\n\u001b[0;31m    aa(a=\"True\", b)\u001b[0m\n\u001b[0m                ^\u001b[0m\n\u001b[0;31mSyntaxError\u001b[0m\u001b[0;31m:\u001b[0m positional argument follows keyword argument\n"
     ]
    }
   ],
   "source": [
    "def aa(x, b, z):\n",
    "    print(x, b, z)\n",
    "aa(a=\"True\", b)"
   ]
  },
  {
   "cell_type": "markdown",
   "metadata": {},
   "source": [
    "### Arbitary arguments\n",
    "\n",
    "When we wish to supply arbitrary arguments the convetion is to use ```*args```. ```*``` is th \"unpack\" operator and that what does the magic args is just a convention among python programmers.\n",
    "\n",
    "```*args``` collects all the unnamed arguments into a tuple."
   ]
  },
  {
   "cell_type": "code",
   "execution_count": 49,
   "metadata": {},
   "outputs": [
    {
     "name": "stdout",
     "output_type": "stream",
     "text": [
      "('A', 'B', 'C')\n"
     ]
    }
   ],
   "source": [
    "def print_all(*args):\n",
    "    print(args)\n",
    "\n",
    "print_all(\"A\", \"B\", \"C\")"
   ]
  },
  {
   "cell_type": "markdown",
   "metadata": {},
   "source": [
    "### Arbitrary keyword arguments\n",
    "\n",
    "The above method does not does not include keyword arguments. \n",
    "\n",
    "We can use ```**kwargs``` to facilitate that before. Here ```**``` is the \"unpack\" operator for dictionaries and kwargs is just a convention for keyword arguments.\n",
    "\n",
    "Lets see how this works."
   ]
  },
  {
   "cell_type": "code",
   "execution_count": 64,
   "metadata": {},
   "outputs": [
    {
     "name": "stdout",
     "output_type": "stream",
     "text": [
      "{'a': 'A', 'b': 'B', 'c': 'C'}\n"
     ]
    }
   ],
   "source": [
    "def print_all(**kwargs):\n",
    "    print(kwargs)\n",
    "print_all(a = \"A\", b = \"B\", c=\"C\")"
   ]
  },
  {
   "cell_type": "code",
   "execution_count": 76,
   "metadata": {},
   "outputs": [],
   "source": [
    "# This can be useful you are trying to catch the undefined parameters without breaking the function\n",
    "\n",
    "def print_numbers(**kwargs):\n",
    "    \n",
    "    keywords = [\"Name\", \"Major\", \"Mood\"]\n",
    "    \n",
    "    for key in kwargs.keys():\n",
    "        if key not in keywords:\n",
    "            print(key, \"not in list of keywords\")"
   ]
  },
  {
   "cell_type": "code",
   "execution_count": 77,
   "metadata": {},
   "outputs": [],
   "source": [
    "print_numbers(Name = \"Mahdi\")"
   ]
  },
  {
   "cell_type": "code",
   "execution_count": 78,
   "metadata": {},
   "outputs": [
    {
     "name": "stdout",
     "output_type": "stream",
     "text": [
      "Name1 not in list of keywords\n"
     ]
    }
   ],
   "source": [
    "print_numbers(Name1 = \"Mahdi\")"
   ]
  },
  {
   "cell_type": "markdown",
   "metadata": {},
   "source": [
    "[Return to top](#top)"
   ]
  }
 ],
 "metadata": {
  "kernelspec": {
   "display_name": "Python 3",
   "language": "python",
   "name": "python3"
  },
  "language_info": {
   "codemirror_mode": {
    "name": "ipython",
    "version": 3
   },
   "file_extension": ".py",
   "mimetype": "text/x-python",
   "name": "python",
   "nbconvert_exporter": "python",
   "pygments_lexer": "ipython3",
   "version": "3.7.0"
  },
  "toc": {
   "base_numbering": 1,
   "nav_menu": {},
   "number_sections": true,
   "sideBar": true,
   "skip_h1_title": true,
   "title_cell": "Table of Contents",
   "title_sidebar": "Contents",
   "toc_cell": true,
   "toc_position": {},
   "toc_section_display": true,
   "toc_window_display": true
  }
 },
 "nbformat": 4,
 "nbformat_minor": 4
}
